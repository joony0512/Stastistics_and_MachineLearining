{
  "nbformat": 4,
  "nbformat_minor": 0,
  "metadata": {
    "colab": {
      "provenance": [],
      "mount_file_id": "1Jm9ABMP1esQylgbsfAV3jJYXPorN4WHh",
      "authorship_tag": "ABX9TyMoDGgltkfzjqXkvE7ItmMO",
      "include_colab_link": true
    },
    "kernelspec": {
      "name": "python3",
      "display_name": "Python 3"
    },
    "language_info": {
      "name": "python"
    }
  },
  "cells": [
    {
      "cell_type": "markdown",
      "metadata": {
        "id": "view-in-github",
        "colab_type": "text"
      },
      "source": [
        "<a href=\"https://colab.research.google.com/github/joony0512/Stastistics_and_MachineLearning/blob/main/%EA%B1%B4%EC%84%A4%EA%B8%B0%EA%B3%84%EC%98%A4%EC%9D%BC%EC%83%81%ED%83%9C%EB%B6%84%EB%A5%98%EB%AA%A8%EB%8D%B8.ipynb\" target=\"_parent\"><img src=\"https://colab.research.google.com/assets/colab-badge.svg\" alt=\"Open In Colab\"/></a>"
      ]
    },
    {
      "cell_type": "code",
      "source": [
        "from sklearn.preprocessing import StandardScaler\n",
        "from sklearn.model_selection import train_test_split\n",
        "import pandas as pd"
      ],
      "metadata": {
        "id": "SYauFGxaj1_x"
      },
      "execution_count": 17,
      "outputs": []
    },
    {
      "cell_type": "markdown",
      "source": [
        "#데이터 로드"
      ],
      "metadata": {
        "id": "FPbe3Qv4j6AW"
      }
    },
    {
      "cell_type": "code",
      "execution_count": 45,
      "metadata": {
        "colab": {
          "base_uri": "https://localhost:8080/"
        },
        "id": "2Ae5K0ZKcXV9",
        "outputId": "8947604c-93fe-4275-e3b3-2db48dea9072"
      },
      "outputs": [
        {
          "output_type": "stream",
          "name": "stdout",
          "text": [
            "            ID COMPONENT_ARBITRARY  ANONYMOUS_1  YEAR  SAMPLE_TRANSFER_DAY  \\\n",
            "0  TRAIN_00000          COMPONENT3         1486  2011                    7   \n",
            "1  TRAIN_00001          COMPONENT2         1350  2021                   51   \n",
            "2  TRAIN_00002          COMPONENT2         2415  2015                    2   \n",
            "3  TRAIN_00003          COMPONENT3         7389  2010                    2   \n",
            "4  TRAIN_00004          COMPONENT3         3954  2015                    4   \n",
            "\n",
            "   ANONYMOUS_2  AG   AL    B  BA  ...  U25  U20   U14       U6       U4  V  \\\n",
            "0          200   0    3   93   0  ...  NaN  NaN   NaN      NaN      NaN  0   \n",
            "1          375   0    2   19   0  ...  2.0  4.0   6.0    216.0   1454.0  0   \n",
            "2          200   0  110    1   1  ...  0.0  3.0  39.0  11261.0  41081.0  0   \n",
            "3          200   0    8    3   0  ...  NaN  NaN   NaN      NaN      NaN  0   \n",
            "4          200   0    1  157   0  ...  NaN  NaN   NaN      NaN      NaN  0   \n",
            "\n",
            "   V100    V40   ZN  Y_LABEL  \n",
            "0   NaN  154.0   75        0  \n",
            "1   NaN   44.0  652        0  \n",
            "2   NaN   72.6  412        1  \n",
            "3   NaN  133.3    7        0  \n",
            "4   NaN  133.1  128        0  \n",
            "\n",
            "[5 rows x 54 columns]\n",
            "<class 'pandas.core.frame.DataFrame'>\n",
            "RangeIndex: 14095 entries, 0 to 14094\n",
            "Data columns (total 54 columns):\n",
            " #   Column               Non-Null Count  Dtype  \n",
            "---  ------               --------------  -----  \n",
            " 0   ID                   14095 non-null  object \n",
            " 1   COMPONENT_ARBITRARY  14095 non-null  object \n",
            " 2   ANONYMOUS_1          14095 non-null  int64  \n",
            " 3   YEAR                 14095 non-null  int64  \n",
            " 4   SAMPLE_TRANSFER_DAY  14095 non-null  int64  \n",
            " 5   ANONYMOUS_2          14095 non-null  int64  \n",
            " 6   AG                   14095 non-null  int64  \n",
            " 7   AL                   14095 non-null  int64  \n",
            " 8   B                    14095 non-null  int64  \n",
            " 9   BA                   14095 non-null  int64  \n",
            " 10  BE                   14095 non-null  int64  \n",
            " 11  CA                   14095 non-null  int64  \n",
            " 12  CD                   12701 non-null  float64\n",
            " 13  CO                   14095 non-null  int64  \n",
            " 14  CR                   14095 non-null  int64  \n",
            " 15  CU                   14095 non-null  int64  \n",
            " 16  FH2O                 3890 non-null   float64\n",
            " 17  FNOX                 3890 non-null   float64\n",
            " 18  FOPTIMETHGLY         3890 non-null   float64\n",
            " 19  FOXID                3890 non-null   float64\n",
            " 20  FSO4                 3890 non-null   float64\n",
            " 21  FTBN                 3890 non-null   float64\n",
            " 22  FE                   14095 non-null  int64  \n",
            " 23  FUEL                 3890 non-null   float64\n",
            " 24  H2O                  14095 non-null  float64\n",
            " 25  K                    11796 non-null  float64\n",
            " 26  LI                   14095 non-null  int64  \n",
            " 27  MG                   14095 non-null  int64  \n",
            " 28  MN                   14095 non-null  int64  \n",
            " 29  MO                   14095 non-null  int64  \n",
            " 30  NA                   14095 non-null  int64  \n",
            " 31  NI                   14095 non-null  int64  \n",
            " 32  P                    14095 non-null  int64  \n",
            " 33  PB                   14095 non-null  int64  \n",
            " 34  PQINDEX              14095 non-null  int64  \n",
            " 35  S                    14095 non-null  int64  \n",
            " 36  SB                   14095 non-null  int64  \n",
            " 37  SI                   14095 non-null  int64  \n",
            " 38  SN                   14095 non-null  int64  \n",
            " 39  SOOTPERCENTAGE       3890 non-null   float64\n",
            " 40  TI                   14095 non-null  int64  \n",
            " 41  U100                 2316 non-null   float64\n",
            " 42  U75                  2316 non-null   float64\n",
            " 43  U50                  2316 non-null   float64\n",
            " 44  U25                  2316 non-null   float64\n",
            " 45  U20                  2316 non-null   float64\n",
            " 46  U14                  2118 non-null   float64\n",
            " 47  U6                   2118 non-null   float64\n",
            " 48  U4                   2118 non-null   float64\n",
            " 49  V                    14095 non-null  int64  \n",
            " 50  V100                 3724 non-null   float64\n",
            " 51  V40                  14095 non-null  float64\n",
            " 52  ZN                   14095 non-null  int64  \n",
            " 53  Y_LABEL              14095 non-null  int64  \n",
            "dtypes: float64(21), int64(31), object(2)\n",
            "memory usage: 5.8+ MB\n",
            "None\n",
            "         ANONYMOUS_1          YEAR  SAMPLE_TRANSFER_DAY   ANONYMOUS_2  \\\n",
            "count   14095.000000  14095.000000         14095.000000  14095.000000   \n",
            "mean     3146.082937   2013.652501             7.600568    387.416885   \n",
            "std      4216.089809      3.964758            11.681628    550.016073   \n",
            "min      1000.000000   2007.000000             0.000000    200.000000   \n",
            "25%      1655.000000   2010.000000             3.000000    200.000000   \n",
            "50%      2227.000000   2014.000000             5.000000    200.000000   \n",
            "75%      3797.000000   2017.000000             8.000000    410.000000   \n",
            "max    294451.000000   2022.000000           368.000000   9650.000000   \n",
            "\n",
            "                 AG            AL             B            BA            BE  \\\n",
            "count  14095.000000  14095.000000  14095.000000  14095.000000  14095.000000   \n",
            "mean       0.025825     12.707698     64.026179      0.692799      0.006314   \n",
            "std        0.171926     86.968000    102.876871      2.905491      0.152189   \n",
            "min        0.000000      0.000000      0.000000      0.000000      0.000000   \n",
            "25%        0.000000      1.000000      3.000000      0.000000      0.000000   \n",
            "50%        0.000000      2.000000     11.000000      0.000000      0.000000   \n",
            "75%        0.000000      4.000000    110.000000      0.000000      0.000000   \n",
            "max        3.000000   4630.000000   2051.000000    216.000000      9.000000   \n",
            "\n",
            "                 CA  ...          U25          U20           U14  \\\n",
            "count  14095.000000  ...  2316.000000  2316.000000   2118.000000   \n",
            "mean    1366.757574  ...    29.870898    56.063472    239.938149   \n",
            "std     1481.924727  ...    97.459625   184.332678    685.053457   \n",
            "min        0.000000  ...     0.000000     0.000000      0.000000   \n",
            "25%       48.000000  ...     3.000000     5.000000     22.000000   \n",
            "50%      198.000000  ...     7.000000    13.000000     57.000000   \n",
            "75%     2975.000000  ...    23.000000    39.250000    189.000000   \n",
            "max     6609.000000  ...  1651.000000  2932.000000  11296.000000   \n",
            "\n",
            "                  U6             U4             V         V100           V40  \\\n",
            "count    2118.000000    2118.000000  14095.000000  3724.000000  14095.000000   \n",
            "mean     5488.693107   19415.597262      0.050656    13.576230    109.355815   \n",
            "std     15474.146283   40145.311444      0.475438     1.073718     49.612379   \n",
            "min        15.000000     154.000000      0.000000     5.200000      2.900000   \n",
            "25%       636.750000    5409.250000      0.000000    12.900000     71.800000   \n",
            "50%      1753.000000   12691.500000      0.000000    13.500000    111.300000   \n",
            "75%      5517.750000   24535.750000      0.000000    14.200000    137.200000   \n",
            "max    412627.000000  844421.000000     17.000000    29.900000   2840.500000   \n",
            "\n",
            "                 ZN       Y_LABEL  \n",
            "count  14095.000000  14095.000000  \n",
            "mean     588.646825      0.085349  \n",
            "std      531.743393      0.279411  \n",
            "min        0.000000      0.000000  \n",
            "25%       37.000000      0.000000  \n",
            "50%      520.000000      0.000000  \n",
            "75%     1119.000000      0.000000  \n",
            "max     2132.000000      1.000000  \n",
            "\n",
            "[8 rows x 52 columns]\n",
            "COMPONENT3    7050\n",
            "COMPONENT1    3890\n",
            "COMPONENT2    2316\n",
            "COMPONENT4     839\n",
            "Name: COMPONENT_ARBITRARY, dtype: int64\n"
          ]
        }
      ],
      "source": [
        "# CSV 파일을 불러와 데이터프레임으로 저장합니다.\n",
        "train_df = pd.read_csv('/content/drive/MyDrive/2023년 4학년 2학기/머신러닝PBL/train.csv')\n",
        "# 데이터프레임의 첫 5개 행을 출력합니다.\n",
        "print(pd.DataFrame(train_df.head()))\n",
        "\n",
        "# 데이터프레임의 정보를 출력합니다.\n",
        "print(train_df.info())\n",
        "\n",
        "# 데이터프레임의 요약 통계 정보를 출력합니다.\n",
        "print(train_df.describe())\n",
        "\n",
        "# 변수의 분포를 확인합니다.\n",
        "print(train_df['COMPONENT_ARBITRARY'].value_counts())\n"
      ]
    },
    {
      "cell_type": "code",
      "source": [
        "#인덱스 변경\n",
        "train_df.set_index('ID', inplace=True)"
      ],
      "metadata": {
        "id": "uXcoc71olbP9"
      },
      "execution_count": 46,
      "outputs": []
    },
    {
      "cell_type": "code",
      "source": [
        "#COMPONENT_ARBITRARY컬럼 onehot encoding\n",
        "one_hot_encoded = pd.get_dummies(train_df['COMPONENT_ARBITRARY'])\n",
        "print(one_hot_encoded)"
      ],
      "metadata": {
        "colab": {
          "base_uri": "https://localhost:8080/"
        },
        "id": "xFfzE8Kycc-l",
        "outputId": "99a5fd56-d7fd-4579-db9e-71b3c1639989"
      },
      "execution_count": 47,
      "outputs": [
        {
          "output_type": "stream",
          "name": "stdout",
          "text": [
            "             COMPONENT1  COMPONENT2  COMPONENT3  COMPONENT4\n",
            "ID                                                         \n",
            "TRAIN_00000           0           0           1           0\n",
            "TRAIN_00001           0           1           0           0\n",
            "TRAIN_00002           0           1           0           0\n",
            "TRAIN_00003           0           0           1           0\n",
            "TRAIN_00004           0           0           1           0\n",
            "...                 ...         ...         ...         ...\n",
            "TRAIN_14090           0           0           1           0\n",
            "TRAIN_14091           1           0           0           0\n",
            "TRAIN_14092           0           0           1           0\n",
            "TRAIN_14093           0           1           0           0\n",
            "TRAIN_14094           0           1           0           0\n",
            "\n",
            "[14095 rows x 4 columns]\n"
          ]
        }
      ]
    },
    {
      "cell_type": "code",
      "source": [
        "#원래 열 제거\n",
        "train_df = train_df.drop('COMPONENT_ARBITRARY', axis =1)"
      ],
      "metadata": {
        "id": "sLeEKJdxeAhx"
      },
      "execution_count": 48,
      "outputs": []
    },
    {
      "cell_type": "code",
      "source": [
        "#새로운 열들 추가\n",
        "train_df.insert(0, 'COMPONENT1', one_hot_encoded['COMPONENT1'])\n",
        "train_df.insert(1, 'COMPONENT2', one_hot_encoded['COMPONENT2'])\n",
        "train_df.insert(2, 'COMPONENT3', one_hot_encoded['COMPONENT3'])\n",
        "train_df.insert(3, 'COMPONENT4', one_hot_encoded['COMPONENT4'])\n",
        "print(train_df)"
      ],
      "metadata": {
        "colab": {
          "base_uri": "https://localhost:8080/"
        },
        "id": "vTDHX_nZex5B",
        "outputId": "de419af8-84a9-4c15-b4b0-cc97e8c95796"
      },
      "execution_count": 49,
      "outputs": [
        {
          "output_type": "stream",
          "name": "stdout",
          "text": [
            "             COMPONENT1  COMPONENT2  COMPONENT3  COMPONENT4  ANONYMOUS_1  \\\n",
            "ID                                                                         \n",
            "TRAIN_00000           0           0           1           0         1486   \n",
            "TRAIN_00001           0           1           0           0         1350   \n",
            "TRAIN_00002           0           1           0           0         2415   \n",
            "TRAIN_00003           0           0           1           0         7389   \n",
            "TRAIN_00004           0           0           1           0         3954   \n",
            "...                 ...         ...         ...         ...          ...   \n",
            "TRAIN_14090           0           0           1           0         1616   \n",
            "TRAIN_14091           1           0           0           0         2784   \n",
            "TRAIN_14092           0           0           1           0         1788   \n",
            "TRAIN_14093           0           1           0           0         2498   \n",
            "TRAIN_14094           0           1           0           0         1902   \n",
            "\n",
            "             YEAR  SAMPLE_TRANSFER_DAY  ANONYMOUS_2  AG   AL  ...     U25  \\\n",
            "ID                                                            ...           \n",
            "TRAIN_00000  2011                    7          200   0    3  ...     NaN   \n",
            "TRAIN_00001  2021                   51          375   0    2  ...     2.0   \n",
            "TRAIN_00002  2015                    2          200   0  110  ...     0.0   \n",
            "TRAIN_00003  2010                    2          200   0    8  ...     NaN   \n",
            "TRAIN_00004  2015                    4          200   0    1  ...     NaN   \n",
            "...           ...                  ...          ...  ..  ...  ...     ...   \n",
            "TRAIN_14090  2014                    8          200   0    2  ...     NaN   \n",
            "TRAIN_14091  2013                    2          200   0    3  ...     NaN   \n",
            "TRAIN_14092  2008                    9          550   0    6  ...     NaN   \n",
            "TRAIN_14093  2009                   19          550   0    2  ...     7.0   \n",
            "TRAIN_14094  2012                   15          200   0    0  ...  1163.0   \n",
            "\n",
            "                U20      U14        U6        U4  V  V100    V40    ZN  \\\n",
            "ID                                                                       \n",
            "TRAIN_00000     NaN      NaN       NaN       NaN  0   NaN  154.0    75   \n",
            "TRAIN_00001     4.0      6.0     216.0    1454.0  0   NaN   44.0   652   \n",
            "TRAIN_00002     3.0     39.0   11261.0   41081.0  0   NaN   72.6   412   \n",
            "TRAIN_00003     NaN      NaN       NaN       NaN  0   NaN  133.3     7   \n",
            "TRAIN_00004     NaN      NaN       NaN       NaN  0   NaN  133.1   128   \n",
            "...             ...      ...       ...       ... ..   ...    ...   ...   \n",
            "TRAIN_14090     NaN      NaN       NaN       NaN  0   NaN  135.4    16   \n",
            "TRAIN_14091     NaN      NaN       NaN       NaN  0  14.5  117.5  1408   \n",
            "TRAIN_14092     NaN      NaN       NaN       NaN  0   NaN   54.0  1301   \n",
            "TRAIN_14093     8.0    100.0    1625.0   18890.0  0   NaN   44.3   652   \n",
            "TRAIN_14094  2565.0  11296.0  181016.0  325823.0  0   NaN   47.0   612   \n",
            "\n",
            "             Y_LABEL  \n",
            "ID                    \n",
            "TRAIN_00000        0  \n",
            "TRAIN_00001        0  \n",
            "TRAIN_00002        1  \n",
            "TRAIN_00003        0  \n",
            "TRAIN_00004        0  \n",
            "...              ...  \n",
            "TRAIN_14090        0  \n",
            "TRAIN_14091        0  \n",
            "TRAIN_14092        0  \n",
            "TRAIN_14093        0  \n",
            "TRAIN_14094        0  \n",
            "\n",
            "[14095 rows x 56 columns]\n"
          ]
        }
      ]
    },
    {
      "cell_type": "markdown",
      "source": [
        "# null 값 처리"
      ],
      "metadata": {
        "id": "cteZ4wsHmy9-"
      }
    },
    {
      "cell_type": "code",
      "source": [
        "train_df.isnull().sum()/train_df.shape[0]*100"
      ],
      "metadata": {
        "colab": {
          "base_uri": "https://localhost:8080/"
        },
        "id": "C-s8oHQ6mya7",
        "outputId": "6327a553-e4c2-4475-81bb-50936bc8dce1"
      },
      "execution_count": 50,
      "outputs": [
        {
          "output_type": "execute_result",
          "data": {
            "text/plain": [
              "COMPONENT1              0.000000\n",
              "COMPONENT2              0.000000\n",
              "COMPONENT3              0.000000\n",
              "COMPONENT4              0.000000\n",
              "ANONYMOUS_1             0.000000\n",
              "YEAR                    0.000000\n",
              "SAMPLE_TRANSFER_DAY     0.000000\n",
              "ANONYMOUS_2             0.000000\n",
              "AG                      0.000000\n",
              "AL                      0.000000\n",
              "B                       0.000000\n",
              "BA                      0.000000\n",
              "BE                      0.000000\n",
              "CA                      0.000000\n",
              "CD                      9.890032\n",
              "CO                      0.000000\n",
              "CR                      0.000000\n",
              "CU                      0.000000\n",
              "FH2O                   72.401561\n",
              "FNOX                   72.401561\n",
              "FOPTIMETHGLY           72.401561\n",
              "FOXID                  72.401561\n",
              "FSO4                   72.401561\n",
              "FTBN                   72.401561\n",
              "FE                      0.000000\n",
              "FUEL                   72.401561\n",
              "H2O                     0.000000\n",
              "K                      16.310748\n",
              "LI                      0.000000\n",
              "MG                      0.000000\n",
              "MN                      0.000000\n",
              "MO                      0.000000\n",
              "NA                      0.000000\n",
              "NI                      0.000000\n",
              "P                       0.000000\n",
              "PB                      0.000000\n",
              "PQINDEX                 0.000000\n",
              "S                       0.000000\n",
              "SB                      0.000000\n",
              "SI                      0.000000\n",
              "SN                      0.000000\n",
              "SOOTPERCENTAGE         72.401561\n",
              "TI                      0.000000\n",
              "U100                   83.568641\n",
              "U75                    83.568641\n",
              "U50                    83.568641\n",
              "U25                    83.568641\n",
              "U20                    83.568641\n",
              "U14                    84.973395\n",
              "U6                     84.973395\n",
              "U4                     84.973395\n",
              "V                       0.000000\n",
              "V100                   73.579283\n",
              "V40                     0.000000\n",
              "ZN                      0.000000\n",
              "Y_LABEL                 0.000000\n",
              "dtype: float64"
            ]
          },
          "metadata": {},
          "execution_count": 50
        }
      ]
    },
    {
      "cell_type": "code",
      "source": [
        "# 결측치 비율 계산\n",
        "null_ratio = train_df.isnull().sum() / train_df.shape[0] * 100\n",
        "\n",
        "# 결측치 비율이 10 이하인 컬럼들에 대해서만 결측치 처리\n",
        "for column in null_ratio[null_ratio <= 10].index:\n",
        "    train_df[column].fillna(train_df[column].mean(), inplace=True)\n",
        "# 10 이상인 컬럼들을 제거\n",
        "train_df = train_df.drop(columns=train_df.columns[train_df.isnull().sum()/train_df.shape[0]*100 >= 10])\n"
      ],
      "metadata": {
        "id": "oCcTLZxNmxhy"
      },
      "execution_count": 51,
      "outputs": []
    },
    {
      "cell_type": "code",
      "source": [
        "train_df.columns"
      ],
      "metadata": {
        "colab": {
          "base_uri": "https://localhost:8080/"
        },
        "id": "O9WJIXFHok7X",
        "outputId": "8592576f-719f-46a5-e645-40673e1557a3"
      },
      "execution_count": 52,
      "outputs": [
        {
          "output_type": "execute_result",
          "data": {
            "text/plain": [
              "Index(['COMPONENT1', 'COMPONENT2', 'COMPONENT3', 'COMPONENT4', 'ANONYMOUS_1',\n",
              "       'YEAR', 'SAMPLE_TRANSFER_DAY', 'ANONYMOUS_2', 'AG', 'AL', 'B', 'BA',\n",
              "       'BE', 'CA', 'CD', 'CO', 'CR', 'CU', 'FE', 'H2O', 'LI', 'MG', 'MN', 'MO',\n",
              "       'NA', 'NI', 'P', 'PB', 'PQINDEX', 'S', 'SB', 'SI', 'SN', 'TI', 'V',\n",
              "       'V40', 'ZN', 'Y_LABEL'],\n",
              "      dtype='object')"
            ]
          },
          "metadata": {},
          "execution_count": 52
        }
      ]
    },
    {
      "cell_type": "code",
      "source": [
        "train_df.shape #56->38"
      ],
      "metadata": {
        "colab": {
          "base_uri": "https://localhost:8080/"
        },
        "id": "_0Cnw4dmqLc8",
        "outputId": "1c7ce727-0d34-4b7f-9c54-ee9224a3fb5c"
      },
      "execution_count": 53,
      "outputs": [
        {
          "output_type": "execute_result",
          "data": {
            "text/plain": [
              "(14095, 38)"
            ]
          },
          "metadata": {},
          "execution_count": 53
        }
      ]
    },
    {
      "cell_type": "markdown",
      "source": [
        "# train과 test dataset나누기"
      ],
      "metadata": {
        "id": "KV8DhCwsgjc0"
      }
    },
    {
      "cell_type": "code",
      "source": [
        "# 특성과 레이블 분리\n",
        "X = train_df.drop('Y_LABEL', axis=1)\n",
        "y = train_df['Y_LABEL']\n",
        "\n",
        "# 데이터를 트레인 데이터와 테스트 데이터로 나눔\n",
        "X_train, X_test, y_train, y_test = train_test_split(X, y, test_size=0.2, random_state=42)\n",
        "\n",
        "# 결과 확인\n",
        "print('X_train:\\n',X_train)\n",
        "print('X_test:\\n',X_test)\n",
        "print('y_train:\\n',y_train)\n",
        "print('y_test:\\n',y_test)"
      ],
      "metadata": {
        "colab": {
          "base_uri": "https://localhost:8080/"
        },
        "id": "yrt4go2XiB4_",
        "outputId": "7d835dd6-4303-42f2-d848-26e065535963"
      },
      "execution_count": 54,
      "outputs": [
        {
          "output_type": "stream",
          "name": "stdout",
          "text": [
            "X_train:\n",
            "              COMPONENT1  COMPONENT2  COMPONENT3  COMPONENT4  ANONYMOUS_1  \\\n",
            "ID                                                                         \n",
            "TRAIN_09466           0           1           0           0         1359   \n",
            "TRAIN_09677           0           0           1           0         2971   \n",
            "TRAIN_03931           0           0           1           0         4245   \n",
            "TRAIN_05181           0           0           1           0         5941   \n",
            "TRAIN_09364           0           1           0           0         2400   \n",
            "...                 ...         ...         ...         ...          ...   \n",
            "TRAIN_05191           0           0           1           0         1208   \n",
            "TRAIN_13418           1           0           0           0         2098   \n",
            "TRAIN_05390           0           1           0           0         2202   \n",
            "TRAIN_00860           0           0           1           0        22087   \n",
            "TRAIN_07270           0           1           0           0         1791   \n",
            "\n",
            "             YEAR  SAMPLE_TRANSFER_DAY  ANONYMOUS_2  AG  AL  ...  PB  PQINDEX  \\\n",
            "ID                                                           ...                \n",
            "TRAIN_09466  2010                    3          388   0  12  ...   2       13   \n",
            "TRAIN_09677  2010                    2          200   0   2  ...   0     1021   \n",
            "TRAIN_03931  2009                    6          200   0   4  ...   0       29   \n",
            "TRAIN_05181  2013                    5          200   0   6  ...   1     8097   \n",
            "TRAIN_09364  2015                    3          200   0   0  ...   0        5   \n",
            "...           ...                  ...          ...  ..  ..  ...  ..      ...   \n",
            "TRAIN_05191  2009                    2          408   0   5  ...  25       84   \n",
            "TRAIN_13418  2008                    7          375   0  11  ...   0       17   \n",
            "TRAIN_05390  2007                    5          550   0   5  ...   5       18   \n",
            "TRAIN_00860  2013                    7          200   0   0  ...   0     7079   \n",
            "TRAIN_07270  2012                    4          200   0   1  ...   0        4   \n",
            "\n",
            "                 S  SB  SI  SN  TI  V    V40    ZN  \n",
            "ID                                                  \n",
            "TRAIN_09466   5402   2  12   0   0  0   35.3   803  \n",
            "TRAIN_09677   7320   0  24   0   0  0   58.0  1160  \n",
            "TRAIN_03931  32720   0   4   0   0  0  136.6    92  \n",
            "TRAIN_05181  33212   1  14   0   0  0  165.4    32  \n",
            "TRAIN_09364   5535   0   4   1   0  0   64.8   466  \n",
            "...            ...  ..  ..  ..  .. ..    ...   ...  \n",
            "TRAIN_05191  18250   8   8   0   0  0  126.2    82  \n",
            "TRAIN_13418   4621   1   8   1   0  0  121.0  1157  \n",
            "TRAIN_05390   1349   4   2   1   0  0   43.7   668  \n",
            "TRAIN_00860  24900   0   5   0   0  0  138.5    56  \n",
            "TRAIN_07270   4915   0   1   0   0  0   68.8   289  \n",
            "\n",
            "[11276 rows x 37 columns]\n",
            "X_test:\n",
            "              COMPONENT1  COMPONENT2  COMPONENT3  COMPONENT4  ANONYMOUS_1  \\\n",
            "ID                                                                         \n",
            "TRAIN_07013           1           0           0           0         2618   \n",
            "TRAIN_00903           0           1           0           0         2990   \n",
            "TRAIN_06997           1           0           0           0         1936   \n",
            "TRAIN_01586           1           0           0           0         3459   \n",
            "TRAIN_00455           0           0           1           0         2443   \n",
            "...                 ...         ...         ...         ...          ...   \n",
            "TRAIN_08635           0           0           1           0         5258   \n",
            "TRAIN_06329           0           1           0           0         1770   \n",
            "TRAIN_04667           0           0           1           0         2022   \n",
            "TRAIN_12760           0           0           0           1         3055   \n",
            "TRAIN_02948           0           0           0           1         4525   \n",
            "\n",
            "             YEAR  SAMPLE_TRANSFER_DAY  ANONYMOUS_2  AG   AL  ...  PB  \\\n",
            "ID                                                            ...       \n",
            "TRAIN_07013  2013                   22          200   0    3  ...   0   \n",
            "TRAIN_00903  2019                    7          455   0    2  ...   0   \n",
            "TRAIN_06997  2013                   11          200   0    7  ...   2   \n",
            "TRAIN_01586  2013                    6          200   0    0  ...   0   \n",
            "TRAIN_00455  2011                    5          200   0  131  ...   1   \n",
            "...           ...                  ...          ...  ..  ...  ...  ..   \n",
            "TRAIN_08635  2015                    4          200   0    1  ...   0   \n",
            "TRAIN_06329  2017                    2          200   0    0  ...   0   \n",
            "TRAIN_04667  2013                    8          200   0    1  ...   0   \n",
            "TRAIN_12760  2019                    1          200   0    0  ...   0   \n",
            "TRAIN_02948  2018                    2          550   0    0  ...   0   \n",
            "\n",
            "             PQINDEX      S  SB  SI  SN  TI  V    V40    ZN  \n",
            "ID                                                           \n",
            "TRAIN_07013        8   3862   0  10   0   0  0  126.5  1094  \n",
            "TRAIN_00903       11   2443   0   4   0   0  0   45.6   322  \n",
            "TRAIN_06997      137   4346   0  41   1   0  0   99.4   935  \n",
            "TRAIN_01586       11   3303   0   4   0   0  0   94.9  1056  \n",
            "TRAIN_00455       23  21183   1   4   0   0  0  155.3    71  \n",
            "...              ...    ...  ..  ..  ..  .. ..    ...   ...  \n",
            "TRAIN_08635       11  21040   0   2   0   0  0  130.3    10  \n",
            "TRAIN_06329       17   8300   0   1   0   0  0   67.3   308  \n",
            "TRAIN_04667      214  25570   0   2   0   0  0  130.4    63  \n",
            "TRAIN_12760        5   1931   2   2   0   0  0   44.8    90  \n",
            "TRAIN_02948       25   3811   0   3   0   0  0   53.7  1052  \n",
            "\n",
            "[2819 rows x 37 columns]\n",
            "y_train:\n",
            " ID\n",
            "TRAIN_09466    0\n",
            "TRAIN_09677    1\n",
            "TRAIN_03931    0\n",
            "TRAIN_05181    1\n",
            "TRAIN_09364    0\n",
            "              ..\n",
            "TRAIN_05191    0\n",
            "TRAIN_13418    0\n",
            "TRAIN_05390    0\n",
            "TRAIN_00860    0\n",
            "TRAIN_07270    0\n",
            "Name: Y_LABEL, Length: 11276, dtype: int64\n",
            "y_test:\n",
            " ID\n",
            "TRAIN_07013    0\n",
            "TRAIN_00903    0\n",
            "TRAIN_06997    0\n",
            "TRAIN_01586    0\n",
            "TRAIN_00455    1\n",
            "              ..\n",
            "TRAIN_08635    0\n",
            "TRAIN_06329    0\n",
            "TRAIN_04667    0\n",
            "TRAIN_12760    0\n",
            "TRAIN_02948    0\n",
            "Name: Y_LABEL, Length: 2819, dtype: int64\n"
          ]
        }
      ]
    },
    {
      "cell_type": "markdown",
      "source": [
        "# 표준화"
      ],
      "metadata": {
        "id": "QOq8pV4Vjm5z"
      }
    },
    {
      "cell_type": "code",
      "source": [
        "scaler = StandardScaler()\n",
        "\n",
        "# 트레인 데이터에 대해 표준화를 적용하고, 테스트 데이터에 대해 표준화를 적용\n",
        "X_train_std = scaler.fit_transform(X_train)\n",
        "X_test_std = scaler.transform(X_test)\n",
        "\n",
        "# 결과 확인\n",
        "print(X_train_std)\n",
        "print(X_test_std)\n",
        "print(y_train)\n",
        "print(y_test)"
      ],
      "metadata": {
        "colab": {
          "base_uri": "https://localhost:8080/"
        },
        "id": "JjzWo_eZffZ8",
        "outputId": "c47f5b61-45c7-4c9e-adfb-5556aff884ce"
      },
      "execution_count": 55,
      "outputs": [
        {
          "output_type": "stream",
          "name": "stdout",
          "text": [
            "[[-0.62069154  2.26456638 -0.99575219 ... -0.1061748  -1.67658159\n",
            "   0.39588727]\n",
            " [-0.62069154 -0.44158564  1.00426593 ... -0.1061748  -1.16065499\n",
            "   1.06665214]\n",
            " [-0.62069154 -0.44158564  1.00426593 ... -0.1061748   0.62576926\n",
            "  -0.94000581]\n",
            " ...\n",
            " [-0.62069154  2.26456638 -0.99575219 ... -0.1061748  -1.48566602\n",
            "   0.14223668]\n",
            " [-0.62069154 -0.44158564  1.00426593 ... -0.1061748   0.66895255\n",
            "  -1.00764596]\n",
            " [-0.62069154  2.26456638 -0.99575219 ... -0.1061748  -0.91519212\n",
            "  -0.56986385]]\n",
            "[[ 1.61110622 -0.44158564 -0.99575219 ... -0.1061748   0.39621602\n",
            "   0.94264519]\n",
            " [-0.62069154  2.26456638 -0.99575219 ... -0.1061748  -1.44248274\n",
            "  -0.50786037]\n",
            " [ 1.61110622 -0.44158564 -0.99575219 ... -0.1061748  -0.21971397\n",
            "   0.64390117]\n",
            " ...\n",
            " [-0.62069154 -0.44158564  1.00426593 ... -0.1061748   0.48485539\n",
            "  -0.99449371]\n",
            " [-0.62069154 -0.44158564 -0.99575219 ... -0.1061748  -1.46066517\n",
            "  -0.94376359]\n",
            " [-0.62069154 -0.44158564 -0.99575219 ... -0.1061748  -1.25838558\n",
            "   0.86373167]]\n",
            "ID\n",
            "TRAIN_09466    0\n",
            "TRAIN_09677    1\n",
            "TRAIN_03931    0\n",
            "TRAIN_05181    1\n",
            "TRAIN_09364    0\n",
            "              ..\n",
            "TRAIN_05191    0\n",
            "TRAIN_13418    0\n",
            "TRAIN_05390    0\n",
            "TRAIN_00860    0\n",
            "TRAIN_07270    0\n",
            "Name: Y_LABEL, Length: 11276, dtype: int64\n",
            "ID\n",
            "TRAIN_07013    0\n",
            "TRAIN_00903    0\n",
            "TRAIN_06997    0\n",
            "TRAIN_01586    0\n",
            "TRAIN_00455    1\n",
            "              ..\n",
            "TRAIN_08635    0\n",
            "TRAIN_06329    0\n",
            "TRAIN_04667    0\n",
            "TRAIN_12760    0\n",
            "TRAIN_02948    0\n",
            "Name: Y_LABEL, Length: 2819, dtype: int64\n"
          ]
        }
      ]
    },
    {
      "cell_type": "markdown",
      "source": [
        "# KNN"
      ],
      "metadata": {
        "id": "UGW92y3itqg1"
      }
    },
    {
      "cell_type": "code",
      "source": [
        "from sklearn.neighbors import KNeighborsClassifier\n",
        "knn =KNeighborsClassifier(n_neighbors =5, p=2)\n",
        "knn.fit(X_train_std, y_train)"
      ],
      "metadata": {
        "colab": {
          "base_uri": "https://localhost:8080/",
          "height": 74
        },
        "id": "XhEA1RgqkuOQ",
        "outputId": "284a948b-1c9a-4aa2-f95e-219f6b065a52"
      },
      "execution_count": 56,
      "outputs": [
        {
          "output_type": "execute_result",
          "data": {
            "text/plain": [
              "KNeighborsClassifier()"
            ],
            "text/html": [
              "<style>#sk-container-id-3 {color: black;background-color: white;}#sk-container-id-3 pre{padding: 0;}#sk-container-id-3 div.sk-toggleable {background-color: white;}#sk-container-id-3 label.sk-toggleable__label {cursor: pointer;display: block;width: 100%;margin-bottom: 0;padding: 0.3em;box-sizing: border-box;text-align: center;}#sk-container-id-3 label.sk-toggleable__label-arrow:before {content: \"▸\";float: left;margin-right: 0.25em;color: #696969;}#sk-container-id-3 label.sk-toggleable__label-arrow:hover:before {color: black;}#sk-container-id-3 div.sk-estimator:hover label.sk-toggleable__label-arrow:before {color: black;}#sk-container-id-3 div.sk-toggleable__content {max-height: 0;max-width: 0;overflow: hidden;text-align: left;background-color: #f0f8ff;}#sk-container-id-3 div.sk-toggleable__content pre {margin: 0.2em;color: black;border-radius: 0.25em;background-color: #f0f8ff;}#sk-container-id-3 input.sk-toggleable__control:checked~div.sk-toggleable__content {max-height: 200px;max-width: 100%;overflow: auto;}#sk-container-id-3 input.sk-toggleable__control:checked~label.sk-toggleable__label-arrow:before {content: \"▾\";}#sk-container-id-3 div.sk-estimator input.sk-toggleable__control:checked~label.sk-toggleable__label {background-color: #d4ebff;}#sk-container-id-3 div.sk-label input.sk-toggleable__control:checked~label.sk-toggleable__label {background-color: #d4ebff;}#sk-container-id-3 input.sk-hidden--visually {border: 0;clip: rect(1px 1px 1px 1px);clip: rect(1px, 1px, 1px, 1px);height: 1px;margin: -1px;overflow: hidden;padding: 0;position: absolute;width: 1px;}#sk-container-id-3 div.sk-estimator {font-family: monospace;background-color: #f0f8ff;border: 1px dotted black;border-radius: 0.25em;box-sizing: border-box;margin-bottom: 0.5em;}#sk-container-id-3 div.sk-estimator:hover {background-color: #d4ebff;}#sk-container-id-3 div.sk-parallel-item::after {content: \"\";width: 100%;border-bottom: 1px solid gray;flex-grow: 1;}#sk-container-id-3 div.sk-label:hover label.sk-toggleable__label {background-color: #d4ebff;}#sk-container-id-3 div.sk-serial::before {content: \"\";position: absolute;border-left: 1px solid gray;box-sizing: border-box;top: 0;bottom: 0;left: 50%;z-index: 0;}#sk-container-id-3 div.sk-serial {display: flex;flex-direction: column;align-items: center;background-color: white;padding-right: 0.2em;padding-left: 0.2em;position: relative;}#sk-container-id-3 div.sk-item {position: relative;z-index: 1;}#sk-container-id-3 div.sk-parallel {display: flex;align-items: stretch;justify-content: center;background-color: white;position: relative;}#sk-container-id-3 div.sk-item::before, #sk-container-id-3 div.sk-parallel-item::before {content: \"\";position: absolute;border-left: 1px solid gray;box-sizing: border-box;top: 0;bottom: 0;left: 50%;z-index: -1;}#sk-container-id-3 div.sk-parallel-item {display: flex;flex-direction: column;z-index: 1;position: relative;background-color: white;}#sk-container-id-3 div.sk-parallel-item:first-child::after {align-self: flex-end;width: 50%;}#sk-container-id-3 div.sk-parallel-item:last-child::after {align-self: flex-start;width: 50%;}#sk-container-id-3 div.sk-parallel-item:only-child::after {width: 0;}#sk-container-id-3 div.sk-dashed-wrapped {border: 1px dashed gray;margin: 0 0.4em 0.5em 0.4em;box-sizing: border-box;padding-bottom: 0.4em;background-color: white;}#sk-container-id-3 div.sk-label label {font-family: monospace;font-weight: bold;display: inline-block;line-height: 1.2em;}#sk-container-id-3 div.sk-label-container {text-align: center;}#sk-container-id-3 div.sk-container {/* jupyter's `normalize.less` sets `[hidden] { display: none; }` but bootstrap.min.css set `[hidden] { display: none !important; }` so we also need the `!important` here to be able to override the default hidden behavior on the sphinx rendered scikit-learn.org. See: https://github.com/scikit-learn/scikit-learn/issues/21755 */display: inline-block !important;position: relative;}#sk-container-id-3 div.sk-text-repr-fallback {display: none;}</style><div id=\"sk-container-id-3\" class=\"sk-top-container\"><div class=\"sk-text-repr-fallback\"><pre>KNeighborsClassifier()</pre><b>In a Jupyter environment, please rerun this cell to show the HTML representation or trust the notebook. <br />On GitHub, the HTML representation is unable to render, please try loading this page with nbviewer.org.</b></div><div class=\"sk-container\" hidden><div class=\"sk-item\"><div class=\"sk-estimator sk-toggleable\"><input class=\"sk-toggleable__control sk-hidden--visually\" id=\"sk-estimator-id-3\" type=\"checkbox\" checked><label for=\"sk-estimator-id-3\" class=\"sk-toggleable__label sk-toggleable__label-arrow\">KNeighborsClassifier</label><div class=\"sk-toggleable__content\"><pre>KNeighborsClassifier()</pre></div></div></div></div></div>"
            ]
          },
          "metadata": {},
          "execution_count": 56
        }
      ]
    },
    {
      "cell_type": "code",
      "source": [
        "y_train_pred = knn.predict(X_train_std)\n",
        "y_test_pred = knn.predict(X_test_std)\n",
        "print('Misclassfied training samples: %d' %(y_train!=y_train_pred).sum())\n",
        "print('Misclassfied test samples: %d' %(y_test !=y_test_pred).sum())"
      ],
      "metadata": {
        "colab": {
          "base_uri": "https://localhost:8080/"
        },
        "id": "lK5osE_-ww_o",
        "outputId": "6d74e5e1-bb5a-4d7e-db43-c6207faf11d1"
      },
      "execution_count": 57,
      "outputs": [
        {
          "output_type": "stream",
          "name": "stdout",
          "text": [
            "Misclassfied training samples: 648\n",
            "Misclassfied test samples: 192\n"
          ]
        }
      ]
    },
    {
      "cell_type": "code",
      "source": [
        "from sklearn.metrics import accuracy_score\n",
        "print(accuracy_score(y_test, y_test_pred))"
      ],
      "metadata": {
        "colab": {
          "base_uri": "https://localhost:8080/"
        },
        "id": "iCKBNPNox7-S",
        "outputId": "95f60a4b-ec4f-434e-d71f-ad5a52fbd796"
      },
      "execution_count": 58,
      "outputs": [
        {
          "output_type": "stream",
          "name": "stdout",
          "text": [
            "0.9318907413976587\n"
          ]
        }
      ]
    },
    {
      "cell_type": "code",
      "source": [
        "from sklearn.metrics import confusion_matrix\n",
        "conf=confusion_matrix(y_true = y_test, y_pred =y_test_pred)\n",
        "print(conf)"
      ],
      "metadata": {
        "colab": {
          "base_uri": "https://localhost:8080/"
        },
        "id": "XSylClO2zrc_",
        "outputId": "eea63750-9a47-4363-a4a6-29579e7f2e46"
      },
      "execution_count": 43,
      "outputs": [
        {
          "output_type": "stream",
          "name": "stdout",
          "text": [
            "[[2574   16]\n",
            " [ 176   53]]\n"
          ]
        }
      ]
    },
    {
      "cell_type": "markdown",
      "source": [
        "# Logistic regression classifier"
      ],
      "metadata": {
        "id": "K8vjxDKZ1G5z"
      }
    },
    {
      "cell_type": "code",
      "source": [
        "from sklearn.linear_model import LogisticRegression\n",
        "Logit = LogisticRegression(C = 1e2, random_state =1, max_iter =200)\n",
        "Logit.fit(X_train_std, y_train)\n",
        "y_train_pred = Logit.predict(X_train_std)\n",
        "y_test_pred = Logit.predict(X_test_std)\n",
        "y_test_pred_proba = Logit.predict_proba(X_test)\n",
        "print(y_test_pred[:5])\n",
        "print(y_test_pred_proba[:5])"
      ],
      "metadata": {
        "colab": {
          "base_uri": "https://localhost:8080/"
        },
        "id": "tTSGH2CY1l9x",
        "outputId": "eae88769-8017-492c-c487-307b0f22ac06"
      },
      "execution_count": 59,
      "outputs": [
        {
          "output_type": "stream",
          "name": "stdout",
          "text": [
            "[0 0 0 0 1]\n",
            "[[1.00000000e+000 0.00000000e+000]\n",
            " [1.00000000e+000 0.00000000e+000]\n",
            " [1.00000000e+000 0.00000000e+000]\n",
            " [1.00000000e+000 2.90487139e-145]\n",
            " [1.00000000e+000 0.00000000e+000]]\n"
          ]
        },
        {
          "output_type": "stream",
          "name": "stderr",
          "text": [
            "/usr/local/lib/python3.10/dist-packages/sklearn/base.py:432: UserWarning: X has feature names, but LogisticRegression was fitted without feature names\n",
            "  warnings.warn(\n"
          ]
        }
      ]
    },
    {
      "cell_type": "code",
      "source": [
        "from sklearn.metrics import accuracy_score\n",
        "print(accuracy_score(y_test, y_test_pred))\n",
        "print(accuracy_score(y_train, y_train_pred))\n",
        "from sklearn.metrics import confusion_matrix\n",
        "print(confusion_matrix(y_test, y_test_pred))"
      ],
      "metadata": {
        "colab": {
          "base_uri": "https://localhost:8080/"
        },
        "id": "KWk11jl544-L",
        "outputId": "617eab6a-d752-4776-afcc-ffb429bb7196"
      },
      "execution_count": 60,
      "outputs": [
        {
          "output_type": "stream",
          "name": "stdout",
          "text": [
            "0.9503369989357928\n",
            "0.9539730400851366\n",
            "[[2578   12]\n",
            " [ 128  101]]\n"
          ]
        }
      ]
    }
  ]
}